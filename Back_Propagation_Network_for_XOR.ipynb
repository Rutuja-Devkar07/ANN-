{
 "cells": [
  {
   "cell_type": "markdown",
   "id": "60c05f08-1d12-40fa-b1c1-a1d466b617a0",
   "metadata": {},
   "source": [
    "Group B \n",
    "1. Write a python program to show Back Propagation Network for XOR function with Binary Input and Output \n"
   ]
  },
  {
   "cell_type": "code",
   "execution_count": 3,
   "id": "938187c5-318a-4f5d-b2d9-f3e4488ecb01",
   "metadata": {},
   "outputs": [
    {
     "name": "stdout",
     "output_type": "stream",
     "text": [
      "Epoch 0, Error: 0.5011189764381397\n",
      "Epoch 1000, Error: 0.3727281141886847\n",
      "Epoch 2000, Error: 0.0828814787748558\n",
      "Epoch 3000, Error: 0.05448366947397373\n",
      "Epoch 4000, Error: 0.043085775389736417\n",
      "\n",
      "Final Output after Training:\n",
      "[[0.]\n",
      " [1.]\n",
      " [1.]\n",
      " [0.]]\n"
     ]
    }
   ],
   "source": [
    "import numpy as np\n",
    "\n",
    "# Activation function (Sigmoid) and its derivative\n",
    "def sigmoid(x):\n",
    "    return 1 / (1 + np.exp(-x))\n",
    "\n",
    "def sigmoid_derivative(x):\n",
    "    return x * (1 - x)\n",
    "\n",
    "# Training data for XOR operation\n",
    "X = np.array([[0, 0], [0, 1], [1, 0], [1, 1]])\n",
    "y = np.array([[0], [1], [1], [0]])\n",
    "\n",
    "# Initialize weights and biases\n",
    "np.random.seed(42)\n",
    "input_layer_size = 2\n",
    "hidden_layer_size = 2\n",
    "output_layer_size = 1\n",
    "\n",
    "weights_input_hidden = np.random.uniform(-1, 1, (input_layer_size, hidden_layer_size))\n",
    "weights_hidden_output = np.random.uniform(-1, 1, (hidden_layer_size, output_layer_size))\n",
    "\n",
    "bias_hidden = np.random.uniform(-1, 1, (1, hidden_layer_size))\n",
    "bias_output = np.random.uniform(-1, 1, (1, output_layer_size))\n",
    "\n",
    "learning_rate = 0.5\n",
    "epochs = 4500\n",
    "\n",
    "# Training process\n",
    "for epoch in range(epochs):\n",
    "    # Forward propagation\n",
    "    hidden_layer_input = np.dot(X, weights_input_hidden) + bias_hidden\n",
    "    hidden_layer_output = sigmoid(hidden_layer_input)\n",
    "\n",
    "    final_input = np.dot(hidden_layer_output, weights_hidden_output) + bias_output\n",
    "    final_output = sigmoid(final_input)\n",
    "\n",
    "    error = y - final_output\n",
    "\n",
    "    # Backpropagation\n",
    "    d_output = error * sigmoid_derivative(final_output)\n",
    "    error_hidden_layer = d_output.dot(weights_hidden_output.T)\n",
    "    d_hidden_layer = error_hidden_layer * sigmoid_derivative(hidden_layer_output)\n",
    "\n",
    "    # Update weights and biases\n",
    "    weights_hidden_output += hidden_layer_output.T.dot(d_output) * learning_rate\n",
    "    weights_input_hidden += X.T.dot(d_hidden_layer) * learning_rate\n",
    "    bias_output += np.sum(d_output, axis=0, keepdims=True) * learning_rate\n",
    "    bias_hidden += np.sum(d_hidden_layer, axis=0, keepdims=True) * learning_rate\n",
    "\n",
    "    # Print error every 1000 epochs\n",
    "    if epoch % 1000 == 0:\n",
    "        print(f'Epoch {epoch}, Error: {np.mean(np.abs(error))}')\n",
    "\n",
    "# Testing\n",
    "print(\"\\nFinal Output after Training:\")\n",
    "print(final_output.round())\n"
   ]
  },
  {
   "cell_type": "code",
   "execution_count": null,
   "id": "cb92f0df-1ebd-4f52-a5eb-72f239ef6d88",
   "metadata": {},
   "outputs": [],
   "source": []
  }
 ],
 "metadata": {
  "kernelspec": {
   "display_name": "Python 3 (ipykernel)",
   "language": "python",
   "name": "python3"
  },
  "language_info": {
   "codemirror_mode": {
    "name": "ipython",
    "version": 3
   },
   "file_extension": ".py",
   "mimetype": "text/x-python",
   "name": "python",
   "nbconvert_exporter": "python",
   "pygments_lexer": "ipython3",
   "version": "3.12.7"
  }
 },
 "nbformat": 4,
 "nbformat_minor": 5
}
