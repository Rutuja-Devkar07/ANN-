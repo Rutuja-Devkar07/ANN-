{
 "cells": [
  {
   "cell_type": "markdown",
   "id": "40500102-a24b-4be7-b864-febbf73c1639",
   "metadata": {},
   "source": [
    "2. Write a python program to illustrate ART neural network. "
   ]
  },
  {
   "cell_type": "code",
   "execution_count": 1,
   "id": "8073302b-ffe0-4c54-a770-6f34e13aa92f",
   "metadata": {},
   "outputs": [
    {
     "name": "stdout",
     "output_type": "stream",
     "text": [
      "\n",
      "Pattern 1: [1 0 1 0]\n",
      "Pattern assigned to category 1\n",
      "\n",
      "Pattern 2: [1 1 1 0]\n",
      "Pattern assigned to category 2\n",
      "\n",
      "Pattern 3: [0 0 1 1]\n",
      "No matching category found (vigilance too high or new category needed)\n",
      "\n",
      "Pattern 4: [0 1 1 1]\n",
      "No matching category found (vigilance too high or new category needed)\n"
     ]
    }
   ],
   "source": [
    "import numpy as np\n",
    "\n",
    "class ART1:\n",
    "    def __init__(self, input_size, num_categories, vigilance):\n",
    "        self.input_size = input_size\n",
    "        self.num_categories = num_categories\n",
    "        self.vigilance = vigilance\n",
    "\n",
    "        # Initialize weights\n",
    "        self.bottom_up = np.ones((num_categories, input_size)) / (1 + input_size)\n",
    "        self.top_down = np.ones((num_categories, input_size))\n",
    "\n",
    "    def train(self, patterns):\n",
    "        for p_idx, pattern in enumerate(patterns):\n",
    "            print(f\"\\nPattern {p_idx + 1}: {pattern}\")\n",
    "\n",
    "            # Find matching category\n",
    "            for j in range(self.num_categories):\n",
    "                # Compute matching score\n",
    "                match = np.sum(np.minimum(pattern, self.top_down[j])) / np.sum(pattern)\n",
    "\n",
    "                if match >= self.vigilance:\n",
    "                    # Update weights\n",
    "                    self.top_down[j] = np.minimum(pattern, self.top_down[j])\n",
    "                    self.bottom_up[j] = self.top_down[j] / (0.5 + np.sum(self.top_down[j]))\n",
    "                    print(f\"Pattern assigned to category {j + 1}\")\n",
    "                    break\n",
    "            else:\n",
    "                print(\"No matching category found (vigilance too high or new category needed)\")\n",
    "\n",
    "# Example usage\n",
    "if __name__ == \"__main__\":\n",
    "    # Binary input patterns (each pattern has 4 features)\n",
    "    patterns = np.array([\n",
    "        [1, 0, 1, 0],\n",
    "        [1, 1, 1, 0],\n",
    "        [0, 0, 1, 1],\n",
    "        [0, 1, 1, 1]\n",
    "    ])\n",
    "\n",
    "    num_features = 4\n",
    "    num_categories = 2\n",
    "    vigilance = 0.7  # How strict the matching is (0 to 1)\n",
    "\n",
    "    art1 = ART1(input_size=num_features, num_categories=num_categories, vigilance=vigilance)\n",
    "    art1.train(patterns)\n"
   ]
  },
  {
   "cell_type": "code",
   "execution_count": null,
   "id": "4bdd33c1-be81-4d7c-91c5-1a5ce7d9ac51",
   "metadata": {},
   "outputs": [],
   "source": []
  }
 ],
 "metadata": {
  "kernelspec": {
   "display_name": "Python 3 (ipykernel)",
   "language": "python",
   "name": "python3"
  },
  "language_info": {
   "codemirror_mode": {
    "name": "ipython",
    "version": 3
   },
   "file_extension": ".py",
   "mimetype": "text/x-python",
   "name": "python",
   "nbconvert_exporter": "python",
   "pygments_lexer": "ipython3",
   "version": "3.12.7"
  }
 },
 "nbformat": 4,
 "nbformat_minor": 5
}
