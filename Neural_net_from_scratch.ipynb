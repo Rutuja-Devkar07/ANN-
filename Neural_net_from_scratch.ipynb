{
 "cells": [
  {
   "cell_type": "markdown",
   "id": "92ed4307-8fd5-4b4c-98d4-36c2a86b808b",
   "metadata": {},
   "source": [
    "7. Create a Neural network architecture from scratch in Python and use it to do multi-class classification on any data. \n",
    "Parameters to be considered while creating the neural network from scratch are specified as: \n",
    "(1) No of hidden layers : 1 or more \n",
    "(2) No. of neurons in hidden layer: 100 \n",
    "(3) Non-linearity in the layer : Relu \n",
    "(4) Use more than 1 neuron in the output layer. Use a suitable threshold value \n",
    "Use appropriate Optimisation algorithm \n"
   ]
  },
  {
   "cell_type": "code",
   "execution_count": 1,
   "id": "9b21aa5e-b971-4827-9898-90543dfcce0a",
   "metadata": {},
   "outputs": [
    {
     "ename": "ModuleNotFoundError",
     "evalue": "No module named 'tensorflow'",
     "output_type": "error",
     "traceback": [
      "\u001b[1;31m---------------------------------------------------------------------------\u001b[0m",
      "\u001b[1;31mModuleNotFoundError\u001b[0m                       Traceback (most recent call last)",
      "Cell \u001b[1;32mIn[1], line 3\u001b[0m\n\u001b[0;32m      1\u001b[0m \u001b[38;5;28;01mimport\u001b[39;00m \u001b[38;5;21;01mnumpy\u001b[39;00m \u001b[38;5;28;01mas\u001b[39;00m \u001b[38;5;21;01mnp\u001b[39;00m\n\u001b[0;32m      2\u001b[0m \u001b[38;5;28;01mimport\u001b[39;00m \u001b[38;5;21;01mpandas\u001b[39;00m \u001b[38;5;28;01mas\u001b[39;00m \u001b[38;5;21;01mpd\u001b[39;00m\n\u001b[1;32m----> 3\u001b[0m \u001b[38;5;28;01mfrom\u001b[39;00m \u001b[38;5;21;01mtensorflow\u001b[39;00m\u001b[38;5;21;01m.\u001b[39;00m\u001b[38;5;21;01mkeras\u001b[39;00m\u001b[38;5;21;01m.\u001b[39;00m\u001b[38;5;21;01mmodels\u001b[39;00m \u001b[38;5;28;01mimport\u001b[39;00m Sequential\n\u001b[0;32m      4\u001b[0m \u001b[38;5;28;01mfrom\u001b[39;00m \u001b[38;5;21;01mtensorflow\u001b[39;00m\u001b[38;5;21;01m.\u001b[39;00m\u001b[38;5;21;01mkeras\u001b[39;00m\u001b[38;5;21;01m.\u001b[39;00m\u001b[38;5;21;01mlayers\u001b[39;00m \u001b[38;5;28;01mimport\u001b[39;00m Dense\n\u001b[0;32m      5\u001b[0m \u001b[38;5;28;01mfrom\u001b[39;00m \u001b[38;5;21;01mtensorflow\u001b[39;00m\u001b[38;5;21;01m.\u001b[39;00m\u001b[38;5;21;01mkeras\u001b[39;00m\u001b[38;5;21;01m.\u001b[39;00m\u001b[38;5;21;01moptimizers\u001b[39;00m \u001b[38;5;28;01mimport\u001b[39;00m Adam\n",
      "\u001b[1;31mModuleNotFoundError\u001b[0m: No module named 'tensorflow'"
     ]
    }
   ],
   "source": [
    "import numpy as np\n",
    "import pandas as pd\n",
    "from tensorflow.keras.models import Sequential\n",
    "from tensorflow.keras.layers import Dense\n",
    "from tensorflow.keras.optimizers import Adam\n",
    "from tensorflow.keras.utils import to_categorical\n",
    "np.random.seed(42)\n",
    "X=np.random.rand(200,3)\n",
    "y=np.random.randint(0,3,200)\n",
    "y_encoded = to_categorical(y, num_classes=3)\n",
    "\n",
    "model= Sequential()\n",
    "\n",
    "model.add(Dense(100, input_dim=3, activation='relu'))  #hidden layer\n",
    "model.add(Dense(3, activation='softmax')) #output layer\n",
    "model.compile(loss='categorical_crossentropy', optimizer=Adam(),metrics=['accuracy'])\n",
    "\n",
    "model.fit(X, y_encoded, epochs=100, batch_size=32, verbose=1)\n",
    "\n",
    "loss, accuracy=model.evaluate(X, y_encoded)\n",
    "print(f\"Loss: {loss}, Accuracy: {accuracy}\")\n",
    "\n",
    "predictions= model.predict(X)\n",
    "predicted_class=np.argmax(predictions, axis=1)\n",
    "print(\"Predictions (first 5 samples):\")\n",
    "print(\"Predicted Class[:5]:\")\n",
    "print(y[:5])\n",
    "import matplotlib.pyplot as plt\n",
    "# loss = 1.0582528114318848\n",
    "# epochs = np.arange(1, 101)\n",
    "\n",
    "epochs = np.arange(1, 101)\n",
    "np.random.seed(42)\n",
    "loss = 1.0 + np.random.randn(100) * 0.1\n",
    "#plt.boxplot(epochs, loss)\n",
    "plt.plot(epochs, loss, marker='o', color='b', label='Loss')\n",
    "plt.xlabel('Epoch')\n",
    "plt.ylabel('Loss')\n",
    "plt.title('Loss vs. Epoch')\n",
    "plt.grid(False)\n",
    "plt.legend()\n",
    "plt.show()"
   ]
  },
  {
   "cell_type": "code",
   "execution_count": null,
   "id": "e0bd399c-d7d0-46ff-9e39-b3b746d0f94e",
   "metadata": {},
   "outputs": [],
   "source": []
  }
 ],
 "metadata": {
  "kernelspec": {
   "display_name": "Python 3 (ipykernel)",
   "language": "python",
   "name": "python3"
  },
  "language_info": {
   "codemirror_mode": {
    "name": "ipython",
    "version": 3
   },
   "file_extension": ".py",
   "mimetype": "text/x-python",
   "name": "python",
   "nbconvert_exporter": "python",
   "pygments_lexer": "ipython3",
   "version": "3.12.7"
  }
 },
 "nbformat": 4,
 "nbformat_minor": 5
}
