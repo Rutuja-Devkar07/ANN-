{
 "cells": [
  {
   "cell_type": "markdown",
   "id": "3b099885-5689-43c2-b81f-6a195c993714",
   "metadata": {},
   "source": [
    "5. Write a python Program for Bidirectional Associative Memory with two pairs of vectors. "
   ]
  },
  {
   "cell_type": "code",
   "execution_count": 7,
   "id": "8f8d649b-584a-405e-aae4-949c8b997eb6",
   "metadata": {},
   "outputs": [
    {
     "name": "stdout",
     "output_type": "stream",
     "text": [
      "Trained Weight Matrix:\n",
      " [[ 2.  2.]\n",
      " [-2. -2.]\n",
      " [ 2.  2.]]\n",
      "\n",
      "Pattern Pair 1:\n",
      "Original Input:  [ 1 -1  1]\n",
      "Recalled Output: [1 1]\n",
      "Recalled Input:  [ 1 -1  1]\n",
      "\n",
      "Pattern Pair 2:\n",
      "Original Input:  [-1  1 -1]\n",
      "Recalled Output: [-1 -1]\n",
      "Recalled Input:  [-1  1 -1]\n"
     ]
    }
   ],
   "source": [
    "import numpy as np\n",
    "\n",
    "class BAM:\n",
    "    def __init__(self, input_size, output_size):\n",
    "        self.weights = np.zeros((input_size, output_size))\n",
    "\n",
    "    def train(self, input_patterns, output_patterns):\n",
    "        for x, y in zip(input_patterns, output_patterns):\n",
    "            self.weights += np.outer(x, y)\n",
    "\n",
    "    def recall(self, input_pattern):\n",
    "        y = np.dot(input_pattern, self.weights)\n",
    "        y = np.where(y >= 0, 1, -1)\n",
    "        return y\n",
    "\n",
    "    def recall_reverse(self, output_pattern):\n",
    "        x = np.dot(output_pattern, self.weights.T)\n",
    "        x = np.where(x >= 0, 1, -1)\n",
    "        return x\n",
    "\n",
    "# Define two bipolar input-output pairs\n",
    "input_patterns = np.array([[1, -1, 1], [-1, 1, -1]])\n",
    "output_patterns = np.array([[1, 1], [-1, -1]])\n",
    "\n",
    "# Create and train BAM\n",
    "bam = BAM(input_size=3, output_size=2)\n",
    "bam.train(input_patterns, output_patterns)\n",
    "\n",
    "# Recall phase\n",
    "print(\"Trained Weight Matrix:\\n\", bam.weights)\n",
    "\n",
    "for i in range(2):\n",
    "    input_pattern = input_patterns[i]\n",
    "    output_recalled = bam.recall(input_pattern)\n",
    "    input_recalled = bam.recall_reverse(output_recalled)\n",
    "    print(f\"\\nPattern Pair {i+1}:\")\n",
    "    print(\"Original Input: \", input_pattern)\n",
    "    print(\"Recalled Output:\", output_recalled)\n",
    "    print(\"Recalled Input: \", input_recalled)\n"
   ]
  },
  {
   "cell_type": "code",
   "execution_count": null,
   "id": "1cb2de8a-b7eb-495d-ae45-88bee96c2dbd",
   "metadata": {},
   "outputs": [],
   "source": []
  }
 ],
 "metadata": {
  "kernelspec": {
   "display_name": "Python 3 (ipykernel)",
   "language": "python",
   "name": "python3"
  },
  "language_info": {
   "codemirror_mode": {
    "name": "ipython",
    "version": 3
   },
   "file_extension": ".py",
   "mimetype": "text/x-python",
   "name": "python",
   "nbconvert_exporter": "python",
   "pygments_lexer": "ipython3",
   "version": "3.12.7"
  }
 },
 "nbformat": 4,
 "nbformat_minor": 5
}
