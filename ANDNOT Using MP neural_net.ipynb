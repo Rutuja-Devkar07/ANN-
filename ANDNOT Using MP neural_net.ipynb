{
 "cells": [
  {
   "cell_type": "markdown",
   "id": "7e18945f-4205-4b99-b6e4-fd3f859480d4",
   "metadata": {},
   "source": [
    "2. Generate ANDNOT function using McCulloch-Pitts neural net by a python program. "
   ]
  },
  {
   "cell_type": "code",
   "execution_count": 1,
   "id": "753c7d4f-dde2-4725-972b-54432901f7dc",
   "metadata": {},
   "outputs": [
    {
     "name": "stdout",
     "output_type": "stream",
     "text": [
      "Testing ANDNOT function\n",
      "Input: [0 0], Expected Output: 0, Output: 0\n",
      "Input: [0 1], Expected Output: 0, Output: 0\n",
      "Input: [1 0], Expected Output: 1, Output: 1\n",
      "Input: [1 1], Expected Output: 0, Output: 0\n"
     ]
    }
   ],
   "source": [
    "import numpy as np\n",
    "def mcculloch_pitts(input, weights,  threshold):\n",
    "  weighted_sum=np.dot(input, weights)\n",
    "  if weighted_sum >= threshold:\n",
    "    return 1\n",
    "  else:\n",
    "      return 0\n",
    "\n",
    "X=np.array([[0,0],\n",
    "            [0,1],\n",
    "            [1,0],\n",
    "            [1,1]])\n",
    "Y=np.array([0,0,1,0])\n",
    "\n",
    "weights=np.array([1,-1])\n",
    "threshold=1\n",
    "print(\"Testing ANDNOT function\")\n",
    "for i in range(len(X)):\n",
    "  inputed_pair= X[i]\n",
    "  expected_output=Y[i]\n",
    "  output=mcculloch_pitts(inputed_pair, weights, threshold)\n",
    "  print(f\"Input: {inputed_pair}, Expected Output: {expected_output}, Output: {output}\")\n"
   ]
  },
  {
   "cell_type": "markdown",
   "id": "ca933aed-9c4e-45a6-9f72-c042344b8d39",
   "metadata": {},
   "source": [
    "Take user input { another program }\n",
    "                 "
   ]
  },
  {
   "cell_type": "code",
   "execution_count": 2,
   "id": "5d5733d8-d900-4bed-8c3c-5ece324ad0b8",
   "metadata": {},
   "outputs": [
    {
     "name": "stdin",
     "output_type": "stream",
     "text": [
      "Enter the weights i.e A :  1\n",
      "Enter the weights i.e B :  0\n"
     ]
    },
    {
     "name": "stdout",
     "output_type": "stream",
     "text": [
      "Testing AND function\n",
      "Input: [0 0], Expected Output: 0, Output: 0\n",
      "Input: [0 1], Expected Output: 0, Output: 0\n",
      "Input: [1 0], Expected Output: 0, Output: 1\n",
      "Input: [1 1], Expected Output: 1, Output: 1\n"
     ]
    }
   ],
   "source": [
    "import numpy as np\n",
    "def mcculloch_pitts(input, weights,  threshold):\n",
    "  weighted_sum=np.dot(input, weights)\n",
    "  if weighted_sum >= threshold:\n",
    "    return 1\n",
    "  else:\n",
    "      return 0\n",
    "\n",
    "X=np.array([[0,0],\n",
    "            [0,1],\n",
    "            [1,0],\n",
    "            [1,1]])\n",
    "Y=np.array([0,0,0,1])\n",
    "\n",
    "weight_A=int(input(\"Enter the weights i.e A : \"))\n",
    "weight_B=int(input(\"Enter the weights i.e B : \"))\n",
    "weights=np.array([weight_A,weight_B])\n",
    "threshold=1\n",
    "print(\"Testing AND function\")\n",
    "for i in range(len(X)):\n",
    "  inputed_pair= X[i]\n",
    "  expected_output=Y[i]\n",
    "  output=mcculloch_pitts(inputed_pair, weights, threshold)\n",
    "  print(f\"Input: {inputed_pair}, Expected Output: {expected_output}, Output: {output}\")\n"
   ]
  },
  {
   "cell_type": "code",
   "execution_count": null,
   "id": "3e77b7e9-3a58-4aa3-864e-69aca312805e",
   "metadata": {},
   "outputs": [],
   "source": []
  }
 ],
 "metadata": {
  "kernelspec": {
   "display_name": "Python 3 (ipykernel)",
   "language": "python",
   "name": "python3"
  },
  "language_info": {
   "codemirror_mode": {
    "name": "ipython",
    "version": 3
   },
   "file_extension": ".py",
   "mimetype": "text/x-python",
   "name": "python",
   "nbconvert_exporter": "python",
   "pygments_lexer": "ipython3",
   "version": "3.12.7"
  }
 },
 "nbformat": 4,
 "nbformat_minor": 5
}
