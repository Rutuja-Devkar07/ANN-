{
 "cells": [
  {
   "cell_type": "markdown",
   "id": "6cd40b91-9058-4649-88ac-1e75e67103b9",
   "metadata": {},
   "source": [
    "3. Write a Python Program using Perceptron Neural Network to recognise even and odd numbers. Given numbers are in ASCII form 0 to 9 "
   ]
  },
  {
   "cell_type": "code",
   "execution_count": 1,
   "id": "e494f97d-b3e2-4c8e-b33f-53f97805eab3",
   "metadata": {},
   "outputs": [
    {
     "name": "stdout",
     "output_type": "stream",
     "text": [
      "Input: [1 1 0 0 0 0] Digit: 0 -> Predicted: Even -> Actual: Even\n",
      "Input: [1 1 0 0 0 1] Digit: 1 -> Predicted: Odd -> Actual: Odd\n",
      "Input: [1 1 0 0 1 0] Digit: 2 -> Predicted: Even -> Actual: Even\n",
      "Input: [1 1 0 0 1 1] Digit: 3 -> Predicted: Odd -> Actual: Odd\n",
      "Input: [1 1 0 1 0 0] Digit: 4 -> Predicted: Even -> Actual: Even\n",
      "Input: [1 1 0 1 0 1] Digit: 5 -> Predicted: Odd -> Actual: Odd\n",
      "Input: [1 1 0 1 1 0] Digit: 6 -> Predicted: Even -> Actual: Even\n",
      "Input: [1 1 0 1 1 1] Digit: 7 -> Predicted: Odd -> Actual: Odd\n",
      "Input: [1 1 1 0 0 0] Digit: 8 -> Predicted: Even -> Actual: Even\n",
      "Input: [1 1 1 0 0 1] Digit: 9 -> Predicted: Odd -> Actual: Odd\n"
     ]
    }
   ],
   "source": [
    "import numpy as np\n",
    "\n",
    "# Training data (binary representation of ASCII for digits 0-9)\n",
    "training_inputs = np.array([\n",
    "    [1, 1, 0, 0, 0, 0],  # 0 (ASCII 48 -> 110000)\n",
    "    [1, 1, 0, 0, 0, 1],  # 1 (ASCII 49 -> 110001)\n",
    "    [1, 1, 0, 0, 1, 0],  # 2 (ASCII 50 -> 110010)\n",
    "    [1, 1, 0, 0, 1, 1],  # 3 (ASCII 51 -> 110011)\n",
    "    [1, 1, 0, 1, 0, 0],  # 4 (ASCII 52 -> 110100)\n",
    "    [1, 1, 0, 1, 0, 1],  # 5 (ASCII 53 -> 110101)\n",
    "    [1, 1, 0, 1, 1, 0],  # 6 (ASCII 54 -> 110110)\n",
    "    [1, 1, 0, 1, 1, 1],  # 7 (ASCII 55 -> 110111)\n",
    "    [1, 1, 1, 0, 0, 0],  # 8 (ASCII 56 -> 111000)\n",
    "    [1, 1, 1, 0, 0, 1]   # 9 (ASCII 57 -> 111001)\n",
    "])\n",
    "\n",
    "# Labels (0 for even, 1 for odd)\n",
    "labels = np.array([0, 1, 0, 1, 0, 1, 0, 1, 0, 1])\n",
    "\n",
    "# Step function (threshold function)\n",
    "def step_function(x):\n",
    "    return 1 if x >= 0 else 0\n",
    "\n",
    "class Perceptron:\n",
    "    def __init__(self, input_size, learning_rate=0.1):\n",
    "        self.weights = np.zeros(input_size)  # Initialize weights to 0\n",
    "        self.bias = 0  # Initialize bias to 0\n",
    "        self.learning_rate = learning_rate\n",
    "\n",
    "    # Predict function with step function as activation\n",
    "    def predict(self, inputs):\n",
    "        summation = np.dot(inputs, self.weights) + self.bias\n",
    "        return step_function(summation)  # Using the step function\n",
    "\n",
    "    # Train function with step function\n",
    "    def train(self, training_inputs, labels, epochs):\n",
    "        for _ in range(epochs):\n",
    "            for inputs, label in zip(training_inputs, labels):\n",
    "                prediction = self.predict(inputs)\n",
    "                error = label - prediction\n",
    "                self.weights += self.learning_rate * error * inputs\n",
    "                self.bias += self.learning_rate * error\n",
    "\n",
    "# Initialize the Perceptron\n",
    "perceptron = Perceptron(input_size=6, learning_rate=0.1)\n",
    "\n",
    "# Train the perceptron\n",
    "perceptron.train(training_inputs, labels, epochs=1000)\n",
    "\n",
    "# Test the perceptron after training\n",
    "for i in range(10):\n",
    "    prediction = perceptron.predict(training_inputs[i])\n",
    "    print(f\"Input: {training_inputs[i]} Digit: {i} -> Predicted: {'Even' if prediction == 0 else 'Odd'} -> Actual: {'Even' if labels[i] == 0 else 'Odd'}\")\n"
   ]
  },
  {
   "cell_type": "code",
   "execution_count": null,
   "id": "9bb5d7a1-0b22-4d7a-85eb-e207d4f2264d",
   "metadata": {},
   "outputs": [],
   "source": []
  }
 ],
 "metadata": {
  "kernelspec": {
   "display_name": "Python 3 (ipykernel)",
   "language": "python",
   "name": "python3"
  },
  "language_info": {
   "codemirror_mode": {
    "name": "ipython",
    "version": 3
   },
   "file_extension": ".py",
   "mimetype": "text/x-python",
   "name": "python",
   "nbconvert_exporter": "python",
   "pygments_lexer": "ipython3",
   "version": "3.12.7"
  }
 },
 "nbformat": 4,
 "nbformat_minor": 5
}
